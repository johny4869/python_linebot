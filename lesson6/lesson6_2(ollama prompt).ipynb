{
 "cells": [
  {
   "cell_type": "markdown",
   "id": "b2d8d60f",
   "metadata": {},
   "source": [
    "   payload = {\n",
    "  \"model\": \"gemma3:latest\",\n",
    "  \"messages\": [\n",
    "    { \"role\": \"user\", \n",
    "     \"content\": \"why is the sky blue?\" }\n",
    "        ]\n",
    "    }  現在改成prompt變數"
   ]
  },
  {
   "cell_type": "code",
   "execution_count": 4,
   "id": "4e693d92",
   "metadata": {},
   "outputs": [
    {
     "name": "stdout",
     "output_type": "stream",
     "text": [
      "===========AI回應==============\n"
     ]
    },
    {
     "data": {
      "text/markdown": [
       "好的，我用簡單的方式解釋什麼是 Python 的函式庫：\n",
       "\n",
       "**想像一下：**\n",
       "\n",
       "你正在建一個房子。你需要很多工具來完成這個任務，例如：\n",
       "\n",
       "*   釘子\n",
       "*   螺絲刀\n",
       "*   錘子\n",
       "*   鋸子\n",
       "\n",
       "這些工具你不會從頭開始做，而是從商店裡購買。\n",
       "\n",
       "**Python 的函式庫就像是程式設計中的「工具商店」！**\n",
       "\n",
       "*   **函式庫 (Library)** 是一組預先寫好的程式碼，裡面包含各種功能，你可以直接使用，而不需要自己從頭開始寫。\n",
       "*   這些功能可以幫助你做很多事情，例如：\n",
       "    *   處理文字 (例如：把長篇文字拆分成小段)\n",
       "    *   處理數學計算\n",
       "    *   連接網路\n",
       "    *   繪圖\n",
       "    *   處理檔案\n",
       "    *   等等...\n",
       "\n",
       "**更具體一點：**\n",
       "\n",
       "*   **每個函式庫** 專門針對特定任務，例如：\n",
       "    *   `math` 函式庫提供數學函數 (例如：平方根、三角函數)\n",
       "    *   `os` 函式庫讓你與作業系統互動 (例如：創建檔案、刪除檔案)\n",
       "    *   `requests` 函式庫讓你發送網路請求 (例如：從網路上取得資料)\n",
       "\n",
       "**使用函式庫的優點：**\n",
       "\n",
       "*   **節省時間：** 你不需要重複造輪子，可以直接使用別人寫好的程式碼。\n",
       "*   **提高效率：** 函式庫通常經過優化，可以更快地執行。\n",
       "*   **增加程式的可靠性：** 函式庫經過廣泛測試，通常很穩定。\n",
       "\n",
       "**總結：**\n",
       "\n",
       "函式庫是 Python 中一個非常重要的概念，就像幫你提供各種工具，讓你更輕鬆、更有效地完成程式的開發。\n",
       "\n",
       "希望這個解釋對你有幫助！\n",
       "\n",
       "**你也可以這樣想:**\n",
       "\n",
       "你可以把函式庫想像成一個已經建立好的，經過測試的\"模組\"，你可以直接導入並使用其中的函數和類別。\n"
      ],
      "text/plain": [
       "<IPython.core.display.Markdown object>"
      ]
     },
     "metadata": {},
     "output_type": "display_data"
    }
   ],
   "source": [
    "from pprint import pprint\n",
    "from IPython.display import Markdown, display\n",
    "import requests\n",
    "def generate_ollama(prompt:str)->None:\n",
    "    url = \"http://localhost:11434/api/generate\"\n",
    "    payload = {\n",
    "         \"model\":\"gemma3:latest\",\n",
    "        \"prompt\":prompt,\n",
    "        \"stream\":False\n",
    "    }\n",
    "    response = requests.post(url,json=payload)\n",
    "    result = response.json()\n",
    "    #print(type(result))\n",
    "    #pprint(result)\n",
    "    print(\"===========AI回應==============\")\n",
    "    display(Markdown(result['response']))\n",
    "\n",
    "generate_ollama(\"請用簡單的方式解釋什麼是Python的函示庫？\")"
   ]
  }
 ],
 "metadata": {
  "kernelspec": {
   "display_name": "linebot",
   "language": "python",
   "name": "python3"
  },
  "language_info": {
   "codemirror_mode": {
    "name": "ipython",
    "version": 3
   },
   "file_extension": ".py",
   "mimetype": "text/x-python",
   "name": "python",
   "nbconvert_exporter": "python",
   "pygments_lexer": "ipython3",
   "version": "3.11.13"
  }
 },
 "nbformat": 4,
 "nbformat_minor": 5
}
